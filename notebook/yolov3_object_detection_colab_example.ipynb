{
  "nbformat": 4,
  "nbformat_minor": 0,
  "metadata": {
    "colab": {
      "name": "Copy of yolov3_object_detection.ipynb",
      "provenance": [],
      "collapsed_sections": [],
      "toc_visible": true,
      "authorship_tag": "ABX9TyOnZzI6693lhST/krWwpPTK",
      "include_colab_link": true
    },
    "kernelspec": {
      "name": "python3",
      "display_name": "Python 3"
    },
    "accelerator": "GPU"
  },
  "cells": [
    {
      "cell_type": "markdown",
      "metadata": {
        "id": "view-in-github",
        "colab_type": "text"
      },
      "source": [
        "<a href=\"https://colab.research.google.com/github/rdesarz/cnnmot/blob/develop/notebook/yolov3_object_detection_colab_example.ipynb\" target=\"_parent\"><img src=\"https://colab.research.google.com/assets/colab-badge.svg\" alt=\"Open In Colab\"/></a>"
      ]
    },
    {
      "cell_type": "markdown",
      "metadata": {
        "id": "A_y_vq1_M-rB",
        "colab_type": "text"
      },
      "source": [
        "# Object detection based on Yolo V3\n",
        "This notebook is inspired by the following tutorials: https://machinelearningmastery.com/how-to-perform-object-detection-with-yolov3-in-keras/. The main goal is to try to use Yolo v3 model to detect and classify object in a scene. \n",
        "\n",
        "## Environment setup\n",
        "The next step are required to configure properly the environment\n",
        "\n"
      ]
    },
    {
      "cell_type": "code",
      "metadata": {
        "id": "VoZXjulEZ4CR",
        "colab_type": "code",
        "colab": {}
      },
      "source": [
        "from google.colab import drive\n",
        "from google.colab import files\n",
        "import os\n",
        "\n",
        "# upload ssh key\n",
        "os.chdir(\"/content\")\n",
        "uploaded = files.upload()"
      ],
      "execution_count": 0,
      "outputs": []
    },
    {
      "cell_type": "markdown",
      "metadata": {
        "id": "Qd-Me5AWd37m",
        "colab_type": "text"
      },
      "source": [
        "Install cnnmot package"
      ]
    },
    {
      "cell_type": "code",
      "metadata": {
        "id": "wQQ0O4Dabppa",
        "colab_type": "code",
        "colab": {}
      },
      "source": [
        "!pip3 install --upgrade git+https://github.com/rdesarz/cnnmot.git"
      ],
      "execution_count": 0,
      "outputs": []
    },
    {
      "cell_type": "code",
      "metadata": {
        "id": "CLhstp3xPFxB",
        "colab_type": "code",
        "colab": {}
      },
      "source": [
        "from IPython.display import HTML, Audio\n",
        "from google.colab.output import eval_js\n",
        "from base64 import b64decode\n",
        "import numpy as np\n",
        "import io\n",
        "from PIL import Image\n",
        "\n",
        "webcam_input_html = \"\"\"\n",
        "<video autoplay\n",
        " width=%d height=%d style='cursor: pointer;'></video>\n",
        "<script>\n",
        "\n",
        "var video = document.querySelector('video')\n",
        "\n",
        "navigator.mediaDevices.getUserMedia({ video: true })\n",
        "  .then(stream=> video.srcObject = stream)\n",
        "  \n",
        "var data = new Promise(resolve=>{\n",
        "  video.onclick = ()=>{\n",
        "    var canvas = document.createElement('canvas')\n",
        "    var [w,h] = [video.offsetWidth, video.offsetHeight]\n",
        "    canvas.width = w\n",
        "    canvas.height = h\n",
        "    canvas.getContext('2d')\n",
        "          .drawImage(video, 0, 0, w, h)\n",
        "    video.srcObject.getVideoTracks()[0].stop()\n",
        "    video.replaceWith(canvas)\n",
        "    resolve(canvas.toDataURL('image/jpeg', %f))\n",
        "  }\n",
        "})\n",
        "</script>\n",
        "\"\"\"\n",
        "\n",
        "def get_camera_input(filename='photo.jpg', quality=0.8, size=(800,600)):\n",
        "  display(HTML(webcam_input_html % (size[0],size[1],quality)))\n",
        "  data = eval_js(\"data\")\n",
        "  binary = b64decode(data.split(',')[1])\n",
        "  f = io.BytesIO(binary)\n",
        "  return np.asarray(Image.open(f))\n",
        "\n",
        "frame = get_camera_input()"
      ],
      "execution_count": 0,
      "outputs": []
    },
    {
      "cell_type": "code",
      "metadata": {
        "id": "YaIDxsESVsZj",
        "colab_type": "code",
        "colab": {}
      },
      "source": [
        "import cnnmot.yolo.model as yolo_model\n",
        "\n",
        "# Download the weights of yolov3 model\n",
        "!wget  https://pjreddie.com/media/files/yolov3.weights\n",
        "model = yolo_model.make_yolov3_model()\n",
        "# load the model weights\n",
        "weight_reader = yolo_model.WeightReader('yolov3.weights')\n",
        "# set the model weights into the model\n",
        "weight_reader.load_weights(model)"
      ],
      "execution_count": 0,
      "outputs": []
    },
    {
      "cell_type": "code",
      "metadata": {
        "id": "7DaYBcz5fH3c",
        "colab_type": "code",
        "colab": {}
      },
      "source": [
        "from numpy import expand_dims\n",
        "from keras.models import load_model\n",
        "from keras.preprocessing.image import load_img\n",
        "from keras.preprocessing.image import img_to_array\n",
        "from cnnmot.yolo.preprocessing import process_image\n",
        "from cnnmot.yolo.postprocessing import do_nms, correct_yolo_boxes, decode_netout, get_boxes\n",
        "from cnnmot.yolo.output import draw_boxes\n",
        "\n",
        "# Setup model variables\n",
        "input_shape = (416, 416)\n",
        "threshold = 0.6\n",
        "labels = [\"person\", \"bicycle\", \"car\", \"motorbike\", \"aeroplane\", \"bus\", \"train\", \"truck\",\n",
        "          \"boat\", \"traffic light\", \"fire hydrant\", \"stop sign\", \"parking meter\", \"bench\",\n",
        "          \"bird\", \"cat\", \"dog\", \"horse\", \"sheep\", \"cow\", \"elephant\", \"bear\", \"zebra\", \"giraffe\",\n",
        "          \"backpack\", \"umbrella\", \"handbag\", \"tie\", \"suitcase\", \"frisbee\", \"skis\", \"snowboard\",\n",
        "          \"sports ball\", \"kite\", \"baseball bat\", \"baseball glove\", \"skateboard\", \"surfboard\",\n",
        "          \"tennis racket\", \"bottle\", \"wine glass\", \"cup\", \"fork\", \"knife\", \"spoon\", \"bowl\", \"banana\",\n",
        "          \"apple\", \"sandwich\", \"orange\", \"broccoli\", \"carrot\", \"hot dog\", \"pizza\", \"donut\", \"cake\",\n",
        "          \"chair\", \"sofa\", \"pottedplant\", \"bed\", \"diningtable\", \"toilet\", \"tvmonitor\", \"laptop\", \"mouse\",\n",
        "          \"remote\", \"keyboard\", \"cell phone\", \"microwave\", \"oven\", \"toaster\", \"sink\", \"refrigerator\",\n",
        "          \"book\", \"clock\", \"vase\", \"scissors\", \"teddy bear\", \"hair drier\", \"toothbrush\"]\n",
        "anchors = [[116, 90, 156, 198, 373, 326], [30, 61, 62, 45, 59, 119], [10, 13, 16, 30, 33, 23]]\n",
        "\n",
        "# preprocess image to input it in the network\n",
        "image, image_w, image_h = process_image(frame, input_shape)\n",
        "# make prediction\n",
        "yhat = model.predict(image)\n",
        "boxes = list()\n",
        "for i in range(len(yhat)):\n",
        "    # decode the output of the network\n",
        "    boxes += decode_netout(yhat[i][0], anchors[i], threshold, input_shape[0], input_shape[1])\n",
        "# correct the sizes of the bounding boxes for the shape of the image\n",
        "correct_yolo_boxes(boxes, image_h, image_w, input_shape[0], input_shape[1])\n",
        "# suppress non-maximal boxes\n",
        "do_nms(boxes, 0.5)\n",
        "# get the details of the detected objects\n",
        "v_boxes, v_labels, v_scores = get_boxes(boxes, labels, threshold)\n",
        "# draw the resulting prediction\n",
        "draw_boxes(frame, v_boxes, v_labels, v_scores)"
      ],
      "execution_count": 0,
      "outputs": []
    }
  ]
}